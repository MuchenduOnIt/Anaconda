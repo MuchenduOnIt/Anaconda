{
 "cells": [
  {
   "cell_type": "code",
   "execution_count": 2,
   "metadata": {},
   "outputs": [
    {
     "ename": "IndentationError",
     "evalue": "unexpected indent (<ipython-input-2-57170ce208a9>, line 3)",
     "output_type": "error",
     "traceback": [
      "\u001b[1;36m  File \u001b[1;32m\"<ipython-input-2-57170ce208a9>\"\u001b[1;36m, line \u001b[1;32m3\u001b[0m\n\u001b[1;33m    self.app = physical_appearance\u001b[0m\n\u001b[1;37m    ^\u001b[0m\n\u001b[1;31mIndentationError\u001b[0m\u001b[1;31m:\u001b[0m unexpected indent\n"
     ]
    }
   ],
   "source": [
    "class girlfriends():\n",
    "    def__init__(self, physical_appearance, brains, character)\n",
    "        self.app = physical_appearance\n",
    "        self.bra =  brains\n",
    "        self.cha = character\n",
    "    girlfriends\n",
    "        "
   ]
  },
  {
   "cell_type": "code",
   "execution_count": 3,
   "metadata": {},
   "outputs": [
    {
     "name": "stdin",
     "output_type": "stream",
     "text": [
      "Enter the file name: rer\n"
     ]
    },
    {
     "name": "stdout",
     "output_type": "stream",
     "text": [
      "File cannot be opened\n",
      "There were 0 lines starting with \"My\" in rer\n"
     ]
    }
   ],
   "source": [
    "fname = input('Enter the file name:')\n",
    "try:\n",
    "    fhand = open(fname)\n",
    "except:\n",
    "    print('File cannot be opened')\n",
    "    exit()\n",
    "for line in fhand:\n",
    "    line = line.rstrip()\n",
    "    if line.find('STEPHEN') == -1: continue\n",
    "    print(line)\n",
    "count = 0\n",
    "for line in fhand:\n",
    "    if line.startswith('The'):\n",
    "        count = count + 1\n",
    "print('There were', count, 'lines starting with \"My\" in', fname,)"
   ]
  },
  {
   "cell_type": "code",
   "execution_count": null,
   "metadata": {},
   "outputs": [],
   "source": []
  }
 ],
 "metadata": {
  "kernelspec": {
   "display_name": "Python 3",
   "language": "python",
   "name": "python3"
  },
  "language_info": {
   "codemirror_mode": {
    "name": "ipython",
    "version": 3
   },
   "file_extension": ".py",
   "mimetype": "text/x-python",
   "name": "python",
   "nbconvert_exporter": "python",
   "pygments_lexer": "ipython3",
   "version": "3.8.8"
  }
 },
 "nbformat": 4,
 "nbformat_minor": 4
}
